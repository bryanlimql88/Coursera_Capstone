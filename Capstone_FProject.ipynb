{
 "cells": [
  {
   "cell_type": "markdown",
   "metadata": {},
   "source": [
    "## Introduction"
   ]
  },
  {
   "cell_type": "markdown",
   "metadata": {},
   "source": [
    "China economy is ranked as the second largest economy in the world by nominal GDP. It is a market with vast opportunities to tap on for expanding businesses, in the case one of our focus group whom manages one of the most popular fast food restaurants in Europe is looking to expand their business into Asia.\n",
    "\n",
    "Our client is eager to explore expanding their business through franchising into China, however their modus operandi had always been focused in Europe and Asia is an unchartered territory for them. China consist of almost 686 cities across the country with a population of almost 1.4 billion people. \n",
    "\n",
    "There is certainly growth opportunities to introduce this fast food brand into Asia with the first step into China.\n"
   ]
  },
  {
   "cell_type": "markdown",
   "metadata": {},
   "source": [
    "## Business Problem"
   ]
  },
  {
   "cell_type": "markdown",
   "metadata": {},
   "source": [
    "As mentioned in the background introduction, our client does not have good understanding of the population landscape in China. In order to successfully sell and launch a franchising model in China, location is the key to success. "
   ]
  },
  {
   "cell_type": "markdown",
   "metadata": {},
   "source": [
    "## Data"
   ]
  },
  {
   "cell_type": "markdown",
   "metadata": {},
   "source": [
    "## 1. China’s Economy"
   ]
  },
  {
   "cell_type": "markdown",
   "metadata": {},
   "source": [
    "#### This section will require us to identify cities with the highest GDP per capita to filter suitable locations to start the business"
   ]
  },
  {
   "cell_type": "markdown",
   "metadata": {},
   "source": [
    "We begin by scrapping data using beautifulsoup into a Pandas dataframe. \n",
    "Website: https://en.wikipedia.org/wiki/List_of_Chinese_prefecture-level_cities_by_GDP_per_capita"
   ]
  },
  {
   "cell_type": "markdown",
   "metadata": {},
   "source": [
    "First, we import required libraries"
   ]
  },
  {
   "cell_type": "code",
   "execution_count": 1,
   "metadata": {},
   "outputs": [
    {
     "name": "stdout",
     "output_type": "stream",
     "text": [
      "Collecting package metadata (current_repodata.json): done\n",
      "Solving environment: done\n",
      "\n",
      "# All requested packages already installed.\n",
      "\n"
     ]
    }
   ],
   "source": [
    "# Install BeautifulSoup\n",
    "!conda install -c conda-forge beautifulsoup4 --yes"
   ]
  },
  {
   "cell_type": "code",
   "execution_count": 2,
   "metadata": {},
   "outputs": [],
   "source": [
    "from bs4 import BeautifulSoup\n",
    "import pandas as pd # library for data analsysis\n",
    "import numpy as np # library to handle data in a vectorized manner\n",
    "import urllib.request #import library to use to read URLs\n",
    "import requests"
   ]
  },
  {
   "cell_type": "markdown",
   "metadata": {},
   "source": [
    "Scrap data from wikipedia website"
   ]
  },
  {
   "cell_type": "code",
   "execution_count": 3,
   "metadata": {},
   "outputs": [],
   "source": [
    "#specify URL to scrap\n",
    "url = requests.get(\"https://en.wikipedia.org/wiki/List_of_Chinese_prefecture-level_cities_by_GDP_per_capita\").text\n",
    "\n",
    "soup = BeautifulSoup(url, \"html.parser\")\n",
    "My_table = soup.find('table', class_='sortable wikitable')"
   ]
  },
  {
   "cell_type": "code",
   "execution_count": 4,
   "metadata": {},
   "outputs": [],
   "source": [
    "# Put them into tables\n",
    "A=[]\n",
    "B=[]\n",
    "C=[]\n",
    "D=[]\n",
    "E=[]\n",
    "F=[]\n",
    "G=[]\n",
    "\n",
    "for row in My_table.findAll('tr'):\n",
    "    cells=row.findAll('td')\n",
    "    if len(cells)==7:\n",
    "        A.append(cells[0].find(text=True))\n",
    "        B.append(cells[1].find(text=True))\n",
    "        C.append(cells[2].find(text=True))\n",
    "        D.append(cells[3].find(text=True))\n",
    "        E.append(cells[4].find(text=True))\n",
    "        F.append(cells[5].find(text=True))\n",
    "        G.append(cells[6].find(text=True))"
   ]
  },
  {
   "cell_type": "markdown",
   "metadata": {},
   "source": [
    "Create a DataFrame with the information"
   ]
  },
  {
   "cell_type": "code",
   "execution_count": 5,
   "metadata": {},
   "outputs": [
    {
     "data": {
      "text/html": [
       "<div>\n",
       "<style scoped>\n",
       "    .dataframe tbody tr th:only-of-type {\n",
       "        vertical-align: middle;\n",
       "    }\n",
       "\n",
       "    .dataframe tbody tr th {\n",
       "        vertical-align: top;\n",
       "    }\n",
       "\n",
       "    .dataframe thead th {\n",
       "        text-align: right;\n",
       "    }\n",
       "</style>\n",
       "<table border=\"1\" class=\"dataframe\">\n",
       "  <thead>\n",
       "    <tr style=\"text-align: right;\">\n",
       "      <th></th>\n",
       "      <th>Rank</th>\n",
       "      <th>cities</th>\n",
       "      <th>provinces</th>\n",
       "      <th>GDPpc (CNY)</th>\n",
       "      <th>GDPpc (USD)</th>\n",
       "      <th>GDP (CNY)</th>\n",
       "      <th>GDP (USD)</th>\n",
       "    </tr>\n",
       "  </thead>\n",
       "  <tbody>\n",
       "    <tr>\n",
       "      <th>0</th>\n",
       "      <td>None</td>\n",
       "      <td>Macau</td>\n",
       "      <td>Macau</td>\n",
       "      <td>522,691</td>\n",
       "      <td>77,415</td>\n",
       "      <td>341,364</td>\n",
       "      <td>50,559\\n</td>\n",
       "    </tr>\n",
       "    <tr>\n",
       "      <th>1</th>\n",
       "      <td>None</td>\n",
       "      <td>Hong Kong</td>\n",
       "      <td>Hong Kong</td>\n",
       "      <td>311,197</td>\n",
       "      <td>46,091</td>\n",
       "      <td>2,306,948</td>\n",
       "      <td>341,679\\n</td>\n",
       "    </tr>\n",
       "    <tr>\n",
       "      <th>2</th>\n",
       "      <td>1</td>\n",
       "      <td>Shenzhen</td>\n",
       "      <td>Guangdong</td>\n",
       "      <td>183,544</td>\n",
       "      <td>27,184</td>\n",
       "      <td>2,249,006</td>\n",
       "      <td>333,097\\n</td>\n",
       "    </tr>\n",
       "    <tr>\n",
       "      <th>3</th>\n",
       "      <td>2</td>\n",
       "      <td>Dongying</td>\n",
       "      <td>Shandong</td>\n",
       "      <td>177,962</td>\n",
       "      <td>26,358</td>\n",
       "      <td>381,435</td>\n",
       "      <td>56,494\\n</td>\n",
       "    </tr>\n",
       "    <tr>\n",
       "      <th>4</th>\n",
       "      <td>3</td>\n",
       "      <td>Ordos</td>\n",
       "      <td>Inner mongolia</td>\n",
       "      <td>173,609</td>\n",
       "      <td>25,713</td>\n",
       "      <td>357,981</td>\n",
       "      <td>53,020\\n</td>\n",
       "    </tr>\n",
       "  </tbody>\n",
       "</table>\n",
       "</div>"
      ],
      "text/plain": [
       "   Rank     cities       provinces GDPpc (CNY) GDPpc (USD)  GDP (CNY)  \\\n",
       "0  None      Macau           Macau     522,691      77,415    341,364   \n",
       "1  None  Hong Kong       Hong Kong     311,197      46,091  2,306,948   \n",
       "2     1   Shenzhen       Guangdong     183,544      27,184  2,249,006   \n",
       "3     2   Dongying        Shandong     177,962      26,358    381,435   \n",
       "4     3      Ordos  Inner mongolia     173,609      25,713    357,981   \n",
       "\n",
       "   GDP (USD)  \n",
       "0   50,559\\n  \n",
       "1  341,679\\n  \n",
       "2  333,097\\n  \n",
       "3   56,494\\n  \n",
       "4   53,020\\n  "
      ]
     },
     "execution_count": 5,
     "metadata": {},
     "output_type": "execute_result"
    }
   ],
   "source": [
    "df = pd.DataFrame(A, columns=['Rank'])\n",
    "df['cities'] = B\n",
    "df['provinces'] = C\n",
    "df['GDPpc (CNY)'] = D\n",
    "df['GDPpc (USD)'] = E\n",
    "df['GDP (CNY)'] = F\n",
    "df['GDP (USD)'] = G\n",
    "df.head()"
   ]
  },
  {
   "cell_type": "markdown",
   "metadata": {},
   "source": [
    "Drop unnecessary columns"
   ]
  },
  {
   "cell_type": "code",
   "execution_count": 6,
   "metadata": {},
   "outputs": [
    {
     "data": {
      "text/html": [
       "<div>\n",
       "<style scoped>\n",
       "    .dataframe tbody tr th:only-of-type {\n",
       "        vertical-align: middle;\n",
       "    }\n",
       "\n",
       "    .dataframe tbody tr th {\n",
       "        vertical-align: top;\n",
       "    }\n",
       "\n",
       "    .dataframe thead th {\n",
       "        text-align: right;\n",
       "    }\n",
       "</style>\n",
       "<table border=\"1\" class=\"dataframe\">\n",
       "  <thead>\n",
       "    <tr style=\"text-align: right;\">\n",
       "      <th></th>\n",
       "      <th>Rank</th>\n",
       "      <th>cities</th>\n",
       "      <th>GDPpc (CNY)</th>\n",
       "      <th>GDP (CNY)</th>\n",
       "    </tr>\n",
       "  </thead>\n",
       "  <tbody>\n",
       "    <tr>\n",
       "      <th>0</th>\n",
       "      <td>None</td>\n",
       "      <td>Macau</td>\n",
       "      <td>522,691</td>\n",
       "      <td>341,364</td>\n",
       "    </tr>\n",
       "    <tr>\n",
       "      <th>1</th>\n",
       "      <td>None</td>\n",
       "      <td>Hong Kong</td>\n",
       "      <td>311,197</td>\n",
       "      <td>2,306,948</td>\n",
       "    </tr>\n",
       "    <tr>\n",
       "      <th>2</th>\n",
       "      <td>1</td>\n",
       "      <td>Shenzhen</td>\n",
       "      <td>183,544</td>\n",
       "      <td>2,249,006</td>\n",
       "    </tr>\n",
       "    <tr>\n",
       "      <th>3</th>\n",
       "      <td>2</td>\n",
       "      <td>Dongying</td>\n",
       "      <td>177,962</td>\n",
       "      <td>381,435</td>\n",
       "    </tr>\n",
       "    <tr>\n",
       "      <th>4</th>\n",
       "      <td>3</td>\n",
       "      <td>Ordos</td>\n",
       "      <td>173,609</td>\n",
       "      <td>357,981</td>\n",
       "    </tr>\n",
       "  </tbody>\n",
       "</table>\n",
       "</div>"
      ],
      "text/plain": [
       "   Rank     cities GDPpc (CNY)  GDP (CNY)\n",
       "0  None      Macau     522,691    341,364\n",
       "1  None  Hong Kong     311,197  2,306,948\n",
       "2     1   Shenzhen     183,544  2,249,006\n",
       "3     2   Dongying     177,962    381,435\n",
       "4     3      Ordos     173,609    357,981"
      ]
     },
     "execution_count": 6,
     "metadata": {},
     "output_type": "execute_result"
    }
   ],
   "source": [
    "#Drop columns provinces, GDPpc(USD), GDP(USD)\n",
    "df = df.drop(columns=['provinces', 'GDPpc (USD)', 'GDP (USD)'])\n",
    "df.head()"
   ]
  },
  {
   "cell_type": "markdown",
   "metadata": {},
   "source": [
    "What is the shape of our dataframe?"
   ]
  },
  {
   "cell_type": "code",
   "execution_count": 7,
   "metadata": {},
   "outputs": [
    {
     "data": {
      "text/plain": [
       "(85, 4)"
      ]
     },
     "execution_count": 7,
     "metadata": {},
     "output_type": "execute_result"
    }
   ],
   "source": [
    "df.shape"
   ]
  },
  {
   "cell_type": "markdown",
   "metadata": {},
   "source": [
    "Visualize GDPpc rank by using bar charts"
   ]
  },
  {
   "cell_type": "code",
   "execution_count": 8,
   "metadata": {},
   "outputs": [
    {
     "data": {
      "text/html": [
       "<div>\n",
       "<style scoped>\n",
       "    .dataframe tbody tr th:only-of-type {\n",
       "        vertical-align: middle;\n",
       "    }\n",
       "\n",
       "    .dataframe tbody tr th {\n",
       "        vertical-align: top;\n",
       "    }\n",
       "\n",
       "    .dataframe thead th {\n",
       "        text-align: right;\n",
       "    }\n",
       "</style>\n",
       "<table border=\"1\" class=\"dataframe\">\n",
       "  <thead>\n",
       "    <tr style=\"text-align: right;\">\n",
       "      <th></th>\n",
       "      <th>Rank</th>\n",
       "      <th>GDPpc (CNY)</th>\n",
       "      <th>GDP (CNY)</th>\n",
       "    </tr>\n",
       "    <tr>\n",
       "      <th>cities</th>\n",
       "      <th></th>\n",
       "      <th></th>\n",
       "      <th></th>\n",
       "    </tr>\n",
       "  </thead>\n",
       "  <tbody>\n",
       "    <tr>\n",
       "      <th>Macau</th>\n",
       "      <td>None</td>\n",
       "      <td>522,691</td>\n",
       "      <td>341,364</td>\n",
       "    </tr>\n",
       "    <tr>\n",
       "      <th>Hong Kong</th>\n",
       "      <td>None</td>\n",
       "      <td>311,197</td>\n",
       "      <td>2,306,948</td>\n",
       "    </tr>\n",
       "    <tr>\n",
       "      <th>Shenzhen</th>\n",
       "      <td>1</td>\n",
       "      <td>183,544</td>\n",
       "      <td>2,249,006</td>\n",
       "    </tr>\n",
       "    <tr>\n",
       "      <th>Dongying</th>\n",
       "      <td>2</td>\n",
       "      <td>177,962</td>\n",
       "      <td>381,435</td>\n",
       "    </tr>\n",
       "    <tr>\n",
       "      <th>Ordos</th>\n",
       "      <td>3</td>\n",
       "      <td>173,609</td>\n",
       "      <td>357,981</td>\n",
       "    </tr>\n",
       "  </tbody>\n",
       "</table>\n",
       "</div>"
      ],
      "text/plain": [
       "           Rank GDPpc (CNY)  GDP (CNY)\n",
       "cities                                \n",
       "Macau      None     522,691    341,364\n",
       "Hong Kong  None     311,197  2,306,948\n",
       "Shenzhen      1     183,544  2,249,006\n",
       "Dongying      2     177,962    381,435\n",
       "Ordos         3     173,609    357,981"
      ]
     },
     "execution_count": 8,
     "metadata": {},
     "output_type": "execute_result"
    }
   ],
   "source": [
    "#Set index as cities\n",
    "df.set_index('cities', inplace = True)\n",
    "\n",
    "#view our new dataframe\n",
    "df.head()"
   ]
  },
  {
   "cell_type": "code",
   "execution_count": 9,
   "metadata": {},
   "outputs": [],
   "source": [
    "#Remove all commas from the numbers\n",
    "df['GDPpc (CNY)'] = df['GDPpc (CNY)'].str.replace(',', '')\n",
    "df['GDP (CNY)'] = df['GDP (CNY)'].str.replace(',', '')\n",
    "df['GDPpc (CNY)']=df['GDPpc (CNY)'].astype(float)"
   ]
  },
  {
   "cell_type": "code",
   "execution_count": 10,
   "metadata": {},
   "outputs": [],
   "source": [
    "# use the inline backend to generate the plots within the browser\n",
    "%matplotlib inline \n",
    "\n",
    "import matplotlib as mpl\n",
    "import matplotlib.pyplot as plt"
   ]
  },
  {
   "cell_type": "code",
   "execution_count": 11,
   "metadata": {},
   "outputs": [
    {
     "data": {
      "image/png": "[encoded data removed]",
      "text/plain": [
       "<Figure size 1080x1080 with 1 Axes>"
      ]
     },
     "metadata": {
      "needs_background": "light"
     },
     "output_type": "display_data"
    }
   ],
   "source": [
    "df['GDPpc (CNY)'].plot(kind='barh', figsize=(15, 15))\n",
    "\n",
    "plt.title('GDPpc (CNY) for cities in China') # add a title to the bar chart\n",
    "plt.ylabel('GDPpc (CNY)') # add y-label\n",
    "plt.xlabel('Cities') # add x-label\n",
    "\n",
    "plt.show()"
   ]
  },
  {
   "cell_type": "markdown",
   "metadata": {},
   "source": [
    "We can see that the top 3 locations with highest GDPpc is Macau, Hong Kong, and Shenzhen. However for the purpose of this study, we will only focus on mainlain China which gives Shenzhen, Dongying, and Ordos."
   ]
  },
  {
   "cell_type": "markdown",
   "metadata": {},
   "source": [
    "## Define Foursquare Credentials and Version"
   ]
  },
  {
   "cell_type": "code",
   "execution_count": 12,
   "metadata": {},
   "outputs": [
    {
     "name": "stdout",
     "output_type": "stream",
     "text": [
      "Your credentails:\n",
      "CLIENT_ID: ADXZQUNM0FBD5O3JWD5U1X0AL24DKAVUVDHVGDBHSSL02SVM\n",
      "CLIENT_SECRET:GJBXCKZZNZKB5YQ2WGNHSYEWTD43Y3WOALEL50UEKCJHHN3H\n"
     ]
    }
   ],
   "source": [
    "CLIENT_ID = 'ADXZQUNM0FBD5O3JWD5U1X0AL24DKAVUVDHVGDBHSSL02SVM' # your Foursquare ID\n",
    "CLIENT_SECRET = 'GJBXCKZZNZKB5YQ2WGNHSYEWTD43Y3WOALEL50UEKCJHHN3H' # your Foursquare Secret\n",
    "VERSION = '20180604'\n",
    "LIMIT = 30\n",
    "print('Your credentails:')\n",
    "print('CLIENT_ID: ' + CLIENT_ID)\n",
    "print('CLIENT_SECRET:' + CLIENT_SECRET)"
   ]
  },
  {
   "cell_type": "markdown",
   "metadata": {},
   "source": [
    "#### Use geopy library to get the latitude and longitude values of these Cities."
   ]
  },
  {
   "cell_type": "markdown",
   "metadata": {},
   "source": [
    "Import and install required libraries"
   ]
  },
  {
   "cell_type": "code",
   "execution_count": 13,
   "metadata": {},
   "outputs": [
    {
     "name": "stdout",
     "output_type": "stream",
     "text": [
      "Collecting package metadata (current_repodata.json): done\n",
      "Solving environment: done\n",
      "\n",
      "# All requested packages already installed.\n",
      "\n"
     ]
    }
   ],
   "source": [
    "!conda install -c conda-forge geopy --yes # uncomment this line if you haven't completed the Foursquare API lab\n",
    "from geopy.geocoders import Nominatim # convert an address into latitude and longitude values"
   ]
  },
  {
   "cell_type": "code",
   "execution_count": 14,
   "metadata": {},
   "outputs": [
    {
     "name": "stdout",
     "output_type": "stream",
     "text": [
      "The geograpical coordinate of Shenzhen are 22.555454, 114.0543297.\n"
     ]
    }
   ],
   "source": [
    "address = 'SHENZHEN'\n",
    "\n",
    "geolocator = Nominatim(user_agent=\"bryanlimql88@gmail.com\")\n",
    "location = geolocator.geocode(address)\n",
    "latitude = location.latitude\n",
    "longitude = location.longitude\n",
    "\n",
    "print('The geograpical coordinate of Shenzhen are {}, {}.'.format(latitude, longitude))"
   ]
  },
  {
   "cell_type": "markdown",
   "metadata": {},
   "source": [
    "Lets take a quick look at the city of Shenzhen on a map"
   ]
  },
  {
   "cell_type": "code",
   "execution_count": 15,
   "metadata": {},
   "outputs": [
    {
     "name": "stdout",
     "output_type": "stream",
     "text": [
      "Collecting package metadata (current_repodata.json): done\n",
      "Solving environment: done\n",
      "\n",
      "# All requested packages already installed.\n",
      "\n"
     ]
    }
   ],
   "source": [
    "!conda install -c conda-forge folium=0.5.0 --yes\n",
    "import folium # plotting library"
   ]
  },
  {
   "cell_type": "code",
   "execution_count": 16,
   "metadata": {},
   "outputs": [
    {
     "data": {
      "text/html": [
       "<div style=\"width:100%;\"><div style=\"position:relative;width:100%;height:0;padding-bottom:60%;\"><span style=\"color:#565656\">Make this Notebook Trusted to load map: File -> Trust Notebook</span><iframe src=\"about:blank\" style=\"position:absolute;width:100%;height:100%;left:0;top:0;border:none !important;\" data-html=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 onload=\"this.contentDocument.open();this.contentDocument.write(atob(this.getAttribute('data-html')));this.contentDocument.close();\" allowfullscreen webkitallowfullscreen mozallowfullscreen></iframe></div></div>"
      ],
      "text/plain": [
       "<folium.folium.Map at 0x7f7c521c0940>"
      ]
     },
     "execution_count": 16,
     "metadata": {},
     "output_type": "execute_result"
    }
   ],
   "source": [
    "venues_map = folium.Map(location=[latitude, longitude], zoom_start=9) # generate map centred around Shenzhen\n",
    "\n",
    "# display map\n",
    "venues_map"
   ]
  },
  {
   "cell_type": "markdown",
   "metadata": {},
   "source": [
    "## Extracting districts data in Shenzhen Province, there are total of 9 districts"
   ]
  },
  {
   "cell_type": "code",
   "execution_count": 17,
   "metadata": {},
   "outputs": [],
   "source": [
    "#specify URL to scrap\n",
    "url = requests.get(\"https://en.wikipedia.org/wiki/List_of_administrative_divisions_of_Shenzhen#County-level_divisions\").text\n",
    "\n",
    "soup = BeautifulSoup(url, \"html.parser\")"
   ]
  },
  {
   "cell_type": "code",
   "execution_count": 18,
   "metadata": {},
   "outputs": [],
   "source": [
    "My_table = soup.find('table')"
   ]
  },
  {
   "cell_type": "code",
   "execution_count": 19,
   "metadata": {},
   "outputs": [],
   "source": [
    "# Put them into tables\n",
    "A=[]\n",
    "B=[]\n",
    "C=[]\n",
    "D=[]\n",
    "E=[]\n",
    "G=[]\n",
    "\n",
    "for row in My_table.findAll('tr')[1:]:\n",
    "    cells=row.findAll('td')\n",
    "    if len(cells)==6:\n",
    "        A.append(cells[0].find(text=True))\n",
    "        B.append(cells[1].find(text=True))\n",
    "        C.append(cells[2].find(text=True))\n",
    "        D.append(cells[3].find(text=True))\n",
    "        E.append(cells[4].find(text=True))\n",
    "        F.append(cells[5].find(text=True))\n",
    "        G.append(cells[5].find(text=True))"
   ]
  },
  {
   "cell_type": "code",
   "execution_count": 20,
   "metadata": {},
   "outputs": [
    {
     "data": {
      "text/html": [
       "<div>\n",
       "<style scoped>\n",
       "    .dataframe tbody tr th:only-of-type {\n",
       "        vertical-align: middle;\n",
       "    }\n",
       "\n",
       "    .dataframe tbody tr th {\n",
       "        vertical-align: top;\n",
       "    }\n",
       "\n",
       "    .dataframe thead th {\n",
       "        text-align: right;\n",
       "    }\n",
       "</style>\n",
       "<table border=\"1\" class=\"dataframe\">\n",
       "  <thead>\n",
       "    <tr style=\"text-align: right;\">\n",
       "      <th></th>\n",
       "      <th>Name</th>\n",
       "      <th>Chinese</th>\n",
       "      <th>Hanyu</th>\n",
       "      <th>Population</th>\n",
       "      <th>Area (km2)</th>\n",
       "    </tr>\n",
       "  </thead>\n",
       "  <tbody>\n",
       "    <tr>\n",
       "      <th>0</th>\n",
       "      <td>Luohu District</td>\n",
       "      <td>罗湖区\\n</td>\n",
       "      <td>Luóhú Qū\\n</td>\n",
       "      <td>923,423\\n</td>\n",
       "      <td>79\\n</td>\n",
       "    </tr>\n",
       "    <tr>\n",
       "      <th>1</th>\n",
       "      <td>Nanshan District</td>\n",
       "      <td>南山区\\n</td>\n",
       "      <td>Nánshān Qū\\n</td>\n",
       "      <td>1,087,936\\n</td>\n",
       "      <td>182\\n</td>\n",
       "    </tr>\n",
       "    <tr>\n",
       "      <th>2</th>\n",
       "      <td>Yantian District</td>\n",
       "      <td>盐田区\\n</td>\n",
       "      <td>Yántián Qū\\n</td>\n",
       "      <td>208,861\\n</td>\n",
       "      <td>72\\n</td>\n",
       "    </tr>\n",
       "    <tr>\n",
       "      <th>3</th>\n",
       "      <td>Bao'an District</td>\n",
       "      <td>宝安区\\n</td>\n",
       "      <td>Bǎo'ān Qū\\n</td>\n",
       "      <td>2,638,807\\n</td>\n",
       "      <td>402\\n</td>\n",
       "    </tr>\n",
       "    <tr>\n",
       "      <th>4</th>\n",
       "      <td>Longgang District</td>\n",
       "      <td>龙岗区\\n</td>\n",
       "      <td>Lónggǎng Qū\\n</td>\n",
       "      <td>1,831,225\\n</td>\n",
       "      <td>382\\n</td>\n",
       "    </tr>\n",
       "    <tr>\n",
       "      <th>5</th>\n",
       "      <td>Pingshan District</td>\n",
       "      <td>坪山区\\n</td>\n",
       "      <td>Píngshān Qū\\n</td>\n",
       "      <td>309,211\\n</td>\n",
       "      <td>168\\n</td>\n",
       "    </tr>\n",
       "    <tr>\n",
       "      <th>6</th>\n",
       "      <td>Longhua District</td>\n",
       "      <td>龙华区\\n</td>\n",
       "      <td>Lónghuá Qū\\n</td>\n",
       "      <td>1,379,000\\n</td>\n",
       "      <td>175\\n</td>\n",
       "    </tr>\n",
       "    <tr>\n",
       "      <th>7</th>\n",
       "      <td>Guangming District</td>\n",
       "      <td>光明区\\n</td>\n",
       "      <td>Guāngmíng Qū\\n</td>\n",
       "      <td>481,420\\n</td>\n",
       "      <td>156\\n</td>\n",
       "    </tr>\n",
       "    <tr>\n",
       "      <th>8</th>\n",
       "      <td>Dapeng New District</td>\n",
       "      <td>大鹏新区\\n</td>\n",
       "      <td>Dàpéng Xīn Qū\\n</td>\n",
       "      <td>180,000\\n</td>\n",
       "      <td>294\\n</td>\n",
       "    </tr>\n",
       "  </tbody>\n",
       "</table>\n",
       "</div>"
      ],
      "text/plain": [
       "                  Name Chinese            Hanyu   Population Area (km2)\n",
       "0       Luohu District   罗湖区\\n       Luóhú Qū\\n    923,423\\n       79\\n\n",
       "1     Nanshan District   南山区\\n     Nánshān Qū\\n  1,087,936\\n      182\\n\n",
       "2     Yantian District   盐田区\\n     Yántián Qū\\n    208,861\\n       72\\n\n",
       "3      Bao'an District   宝安区\\n      Bǎo'ān Qū\\n  2,638,807\\n      402\\n\n",
       "4    Longgang District   龙岗区\\n    Lónggǎng Qū\\n  1,831,225\\n      382\\n\n",
       "5    Pingshan District   坪山区\\n    Píngshān Qū\\n    309,211\\n      168\\n\n",
       "6     Longhua District   龙华区\\n     Lónghuá Qū\\n  1,379,000\\n      175\\n\n",
       "7   Guangming District   光明区\\n   Guāngmíng Qū\\n    481,420\\n      156\\n\n",
       "8  Dapeng New District  大鹏新区\\n  Dàpéng Xīn Qū\\n    180,000\\n      294\\n"
      ]
     },
     "execution_count": 20,
     "metadata": {},
     "output_type": "execute_result"
    }
   ],
   "source": [
    "df = pd.DataFrame(A, columns=['Name'])\n",
    "df['Chinese'] = B\n",
    "df['Hanyu'] = C\n",
    "df['Population'] = D\n",
    "df['Area (km2)'] = E\n",
    "df"
   ]
  },
  {
   "cell_type": "code",
   "execution_count": 21,
   "metadata": {},
   "outputs": [
    {
     "data": {
      "text/html": [
       "<div>\n",
       "<style scoped>\n",
       "    .dataframe tbody tr th:only-of-type {\n",
       "        vertical-align: middle;\n",
       "    }\n",
       "\n",
       "    .dataframe tbody tr th {\n",
       "        vertical-align: top;\n",
       "    }\n",
       "\n",
       "    .dataframe thead th {\n",
       "        text-align: right;\n",
       "    }\n",
       "</style>\n",
       "<table border=\"1\" class=\"dataframe\">\n",
       "  <thead>\n",
       "    <tr style=\"text-align: right;\">\n",
       "      <th></th>\n",
       "      <th>Name</th>\n",
       "      <th>Chinese</th>\n",
       "      <th>Hanyu</th>\n",
       "      <th>Population</th>\n",
       "      <th>Area (km2)</th>\n",
       "    </tr>\n",
       "  </thead>\n",
       "  <tbody>\n",
       "    <tr>\n",
       "      <th>0</th>\n",
       "      <td>Luohu District</td>\n",
       "      <td>罗湖区</td>\n",
       "      <td>Luóhú Qū</td>\n",
       "      <td>923423.0</td>\n",
       "      <td>79.0</td>\n",
       "    </tr>\n",
       "    <tr>\n",
       "      <th>1</th>\n",
       "      <td>Nanshan District</td>\n",
       "      <td>南山区</td>\n",
       "      <td>Nánshān Qū</td>\n",
       "      <td>1087936.0</td>\n",
       "      <td>182.0</td>\n",
       "    </tr>\n",
       "    <tr>\n",
       "      <th>2</th>\n",
       "      <td>Yantian District</td>\n",
       "      <td>盐田区</td>\n",
       "      <td>Yántián Qū</td>\n",
       "      <td>208861.0</td>\n",
       "      <td>72.0</td>\n",
       "    </tr>\n",
       "    <tr>\n",
       "      <th>3</th>\n",
       "      <td>Bao'an District</td>\n",
       "      <td>宝安区</td>\n",
       "      <td>Bǎo'ān Qū</td>\n",
       "      <td>2638807.0</td>\n",
       "      <td>402.0</td>\n",
       "    </tr>\n",
       "    <tr>\n",
       "      <th>4</th>\n",
       "      <td>Longgang District</td>\n",
       "      <td>龙岗区</td>\n",
       "      <td>Lónggǎng Qū</td>\n",
       "      <td>1831225.0</td>\n",
       "      <td>382.0</td>\n",
       "    </tr>\n",
       "    <tr>\n",
       "      <th>5</th>\n",
       "      <td>Pingshan District</td>\n",
       "      <td>坪山区</td>\n",
       "      <td>Píngshān Qū</td>\n",
       "      <td>309211.0</td>\n",
       "      <td>168.0</td>\n",
       "    </tr>\n",
       "    <tr>\n",
       "      <th>6</th>\n",
       "      <td>Longhua District</td>\n",
       "      <td>龙华区</td>\n",
       "      <td>Lónghuá Qū</td>\n",
       "      <td>1379000.0</td>\n",
       "      <td>175.0</td>\n",
       "    </tr>\n",
       "    <tr>\n",
       "      <th>7</th>\n",
       "      <td>Guangming District</td>\n",
       "      <td>光明区</td>\n",
       "      <td>Guāngmíng Qū</td>\n",
       "      <td>481420.0</td>\n",
       "      <td>156.0</td>\n",
       "    </tr>\n",
       "    <tr>\n",
       "      <th>8</th>\n",
       "      <td>Dapeng New District</td>\n",
       "      <td>大鹏新区</td>\n",
       "      <td>Dàpéng Xīn Qū</td>\n",
       "      <td>180000.0</td>\n",
       "      <td>294.0</td>\n",
       "    </tr>\n",
       "  </tbody>\n",
       "</table>\n",
       "</div>"
      ],
      "text/plain": [
       "                  Name Chinese          Hanyu  Population  Area (km2)\n",
       "0       Luohu District     罗湖区       Luóhú Qū    923423.0        79.0\n",
       "1     Nanshan District     南山区     Nánshān Qū   1087936.0       182.0\n",
       "2     Yantian District     盐田区     Yántián Qū    208861.0        72.0\n",
       "3      Bao'an District     宝安区      Bǎo'ān Qū   2638807.0       402.0\n",
       "4    Longgang District     龙岗区    Lónggǎng Qū   1831225.0       382.0\n",
       "5    Pingshan District     坪山区    Píngshān Qū    309211.0       168.0\n",
       "6     Longhua District     龙华区     Lónghuá Qū   1379000.0       175.0\n",
       "7   Guangming District     光明区   Guāngmíng Qū    481420.0       156.0\n",
       "8  Dapeng New District    大鹏新区  Dàpéng Xīn Qū    180000.0       294.0"
      ]
     },
     "execution_count": 21,
     "metadata": {},
     "output_type": "execute_result"
    }
   ],
   "source": [
    "#Remove all \\n from the numbers\n",
    "df['Chinese'] = df['Chinese'].str.replace('\\n', '')\n",
    "df['Hanyu'] = df['Hanyu'].str.replace('\\n', '')\n",
    "df['Population'] = df['Population'].str.replace('\\n', '')\n",
    "df['Population'] = df['Population'].str.replace(',', '')\n",
    "df['Area (km2)'] = df['Area (km2)'].str.replace('\\n', '')\n",
    "df['Area (km2)'] = df['Area (km2)'].str.replace(',', '')\n",
    "df['Population']=df['Population'].astype(float)\n",
    "df['Area (km2)']=df['Area (km2)'].astype(float)\n",
    "df"
   ]
  },
  {
   "cell_type": "code",
   "execution_count": 22,
   "metadata": {},
   "outputs": [],
   "source": [
    "df.set_index('Name', inplace=True)"
   ]
  },
  {
   "cell_type": "code",
   "execution_count": 23,
   "metadata": {},
   "outputs": [
    {
     "data": {
      "text/html": [
       "<div>\n",
       "<style scoped>\n",
       "    .dataframe tbody tr th:only-of-type {\n",
       "        vertical-align: middle;\n",
       "    }\n",
       "\n",
       "    .dataframe tbody tr th {\n",
       "        vertical-align: top;\n",
       "    }\n",
       "\n",
       "    .dataframe thead th {\n",
       "        text-align: right;\n",
       "    }\n",
       "</style>\n",
       "<table border=\"1\" class=\"dataframe\">\n",
       "  <thead>\n",
       "    <tr style=\"text-align: right;\">\n",
       "      <th></th>\n",
       "      <th>Chinese</th>\n",
       "      <th>Hanyu</th>\n",
       "      <th>Population</th>\n",
       "      <th>Area (km2)</th>\n",
       "    </tr>\n",
       "    <tr>\n",
       "      <th>Name</th>\n",
       "      <th></th>\n",
       "      <th></th>\n",
       "      <th></th>\n",
       "      <th></th>\n",
       "    </tr>\n",
       "  </thead>\n",
       "  <tbody>\n",
       "    <tr>\n",
       "      <th>Luohu District</th>\n",
       "      <td>罗湖区</td>\n",
       "      <td>Luóhú Qū</td>\n",
       "      <td>923423.0</td>\n",
       "      <td>79.0</td>\n",
       "    </tr>\n",
       "    <tr>\n",
       "      <th>Nanshan District</th>\n",
       "      <td>南山区</td>\n",
       "      <td>Nánshān Qū</td>\n",
       "      <td>1087936.0</td>\n",
       "      <td>182.0</td>\n",
       "    </tr>\n",
       "    <tr>\n",
       "      <th>Yantian District</th>\n",
       "      <td>盐田区</td>\n",
       "      <td>Yántián Qū</td>\n",
       "      <td>208861.0</td>\n",
       "      <td>72.0</td>\n",
       "    </tr>\n",
       "    <tr>\n",
       "      <th>Bao'an District</th>\n",
       "      <td>宝安区</td>\n",
       "      <td>Bǎo'ān Qū</td>\n",
       "      <td>2638807.0</td>\n",
       "      <td>402.0</td>\n",
       "    </tr>\n",
       "    <tr>\n",
       "      <th>Longgang District</th>\n",
       "      <td>龙岗区</td>\n",
       "      <td>Lónggǎng Qū</td>\n",
       "      <td>1831225.0</td>\n",
       "      <td>382.0</td>\n",
       "    </tr>\n",
       "    <tr>\n",
       "      <th>Pingshan District</th>\n",
       "      <td>坪山区</td>\n",
       "      <td>Píngshān Qū</td>\n",
       "      <td>309211.0</td>\n",
       "      <td>168.0</td>\n",
       "    </tr>\n",
       "    <tr>\n",
       "      <th>Longhua District</th>\n",
       "      <td>龙华区</td>\n",
       "      <td>Lónghuá Qū</td>\n",
       "      <td>1379000.0</td>\n",
       "      <td>175.0</td>\n",
       "    </tr>\n",
       "    <tr>\n",
       "      <th>Guangming District</th>\n",
       "      <td>光明区</td>\n",
       "      <td>Guāngmíng Qū</td>\n",
       "      <td>481420.0</td>\n",
       "      <td>156.0</td>\n",
       "    </tr>\n",
       "    <tr>\n",
       "      <th>Dapeng New District</th>\n",
       "      <td>大鹏新区</td>\n",
       "      <td>Dàpéng Xīn Qū</td>\n",
       "      <td>180000.0</td>\n",
       "      <td>294.0</td>\n",
       "    </tr>\n",
       "  </tbody>\n",
       "</table>\n",
       "</div>"
      ],
      "text/plain": [
       "                    Chinese          Hanyu  Population  Area (km2)\n",
       "Name                                                              \n",
       "Luohu District          罗湖区       Luóhú Qū    923423.0        79.0\n",
       "Nanshan District        南山区     Nánshān Qū   1087936.0       182.0\n",
       "Yantian District        盐田区     Yántián Qū    208861.0        72.0\n",
       "Bao'an District         宝安区      Bǎo'ān Qū   2638807.0       402.0\n",
       "Longgang District       龙岗区    Lónggǎng Qū   1831225.0       382.0\n",
       "Pingshan District       坪山区    Píngshān Qū    309211.0       168.0\n",
       "Longhua District        龙华区     Lónghuá Qū   1379000.0       175.0\n",
       "Guangming District      光明区   Guāngmíng Qū    481420.0       156.0\n",
       "Dapeng New District    大鹏新区  Dàpéng Xīn Qū    180000.0       294.0"
      ]
     },
     "execution_count": 23,
     "metadata": {},
     "output_type": "execute_result"
    }
   ],
   "source": [
    "df"
   ]
  },
  {
   "cell_type": "markdown",
   "metadata": {},
   "source": [
    "Let's use simple K-means clustering to cluster the districts"
   ]
  },
  {
   "cell_type": "code",
   "execution_count": 24,
   "metadata": {},
   "outputs": [],
   "source": [
    "from sklearn.cluster import KMeans \n",
    "\n",
    "x1 = df['Population']\n",
    "x2 = df['Area (km2)']"
   ]
  },
  {
   "cell_type": "markdown",
   "metadata": {},
   "source": [
    "#### Define a function that assigns each datapoint to a cluster"
   ]
  },
  {
   "cell_type": "code",
   "execution_count": 38,
   "metadata": {},
   "outputs": [
    {
     "name": "stdout",
     "output_type": "stream",
     "text": [
      "assign_members function defined!\n"
     ]
    }
   ],
   "source": [
    "colors_map = np.array(['b', 'r'])\n",
    "def assign_members(x1, x2, centers):\n",
    "    compare_to_first_center = np.sqrt(np.square(np.array(x1) - centers[0][0]) + np.square(np.array(x2) - centers[0][1]))\n",
    "    compare_to_second_center = np.sqrt(np.square(np.array(x1) - centers[1][0]) + np.square(np.array(x2) - centers[1][1]))\n",
    "    class_of_points = compare_to_first_center > compare_to_second_center\n",
    "    colors = colors_map[class_of_points + 1 - 1]\n",
    "    return colors, class_of_points\n",
    "\n",
    "print('assign_members function defined!')"
   ]
  },
  {
   "cell_type": "markdown",
   "metadata": {},
   "source": [
    "#### Define a function that updates the centroid of each cluster"
   ]
  },
  {
   "cell_type": "code",
   "execution_count": 48,
   "metadata": {},
   "outputs": [
    {
     "name": "stdout",
     "output_type": "stream",
     "text": [
      "assign_members function defined!\n"
     ]
    }
   ],
   "source": [
    "# update means\n",
    "def update_centers(x1, x2, class_of_points):\n",
    "    center1 = [np.mean(np.array(x1)[~class_of_points]), np.mean(np.array(x2)[~class_of_points])]\n",
    "    center2 = [np.mean(np.array(x1)[class_of_points]), np.mean(np.array(x2)[class_of_points])]\n",
    "    return [center1, center2]\n",
    "\n",
    "print('assign_members function defined!')"
   ]
  },
  {
   "cell_type": "markdown",
   "metadata": {},
   "source": [
    "#### Define a function that plots the data points along with the cluster centroids"
   ]
  },
  {
   "cell_type": "code",
   "execution_count": 49,
   "metadata": {},
   "outputs": [
    {
     "name": "stdout",
     "output_type": "stream",
     "text": [
      "plot_points function defined!\n"
     ]
    }
   ],
   "source": [
    "def plot_points(centroids=None, colors='g', figure_title=None):\n",
    "    # plot the figure\n",
    "    fig = plt.figure(figsize=(15, 10))  # create a figure object\n",
    "    ax = fig.add_subplot(1, 1, 1)\n",
    "    \n",
    "    centroid_colors = ['bx', 'rx']\n",
    "    if centroids:\n",
    "        for (i, centroid) in enumerate(centroids):\n",
    "            ax.plot(centroid[0], centroid[1], centroid_colors[i], markeredgewidth=5, markersize=20)\n",
    "    plt.scatter(x1, x2, s=500, c=colors)\n",
    "    \n",
    "    ax.tick_params('both', length=2, width=1, which='major', labelsize=15)\n",
    "    \n",
    "    # add labels to axes\n",
    "    ax.set_xlabel('Population', fontsize=20)\n",
    "    ax.set_ylabel('Area', fontsize=20)\n",
    "    \n",
    "    # add title to figure\n",
    "    ax.set_title(figure_title, fontsize=24)\n",
    "\n",
    "    plt.show()\n",
    "\n",
    "print('plot_points function defined!')"
   ]
  },
  {
   "cell_type": "code",
   "execution_count": 50,
   "metadata": {},
   "outputs": [
    {
     "data": {
      "image/png": "[encoded data removed]",
      "text/plain": [
       "<Figure size 1080x720 with 1 Axes>"
      ]
     },
     "metadata": {
      "needs_background": "light"
     },
     "output_type": "display_data"
    }
   ],
   "source": [
    "plot_points(figure_title='Scatter Plot Population vs Area')"
   ]
  },
  {
   "cell_type": "code",
   "execution_count": 51,
   "metadata": {},
   "outputs": [
    {
     "data": {
      "image/png": "[encoded data removed]",
      "text/plain": [
       "<Figure size 1080x720 with 1 Axes>"
      ]
     },
     "metadata": {
      "needs_background": "light"
     },
     "output_type": "display_data"
    }
   ],
   "source": [
    "centers = [[50000, 150], [2000000, 250]]\n",
    "plot_points(centers, figure_title='k-means Initialization')"
   ]
  },
  {
   "cell_type": "code",
   "execution_count": 52,
   "metadata": {},
   "outputs": [
    {
     "name": "stdin",
     "output_type": "stream",
     "text": [
      "Iteration 1 - Press Enter to update the members of each cluster \n"
     ]
    },
    {
     "data": {
      "image/png": "[encoded data removed]",
      "text/plain": [
       "<Figure size 1080x720 with 1 Axes>"
      ]
     },
     "metadata": {
      "needs_background": "light"
     },
     "output_type": "display_data"
    },
    {
     "name": "stdin",
     "output_type": "stream",
     "text": [
      "Iteration 1 - Press Enter to update the centers \n"
     ]
    },
    {
     "data": {
      "image/png": "[encoded data removed]",
      "text/plain": [
       "<Figure size 1080x720 with 1 Axes>"
      ]
     },
     "metadata": {
      "needs_background": "light"
     },
     "output_type": "display_data"
    },
    {
     "name": "stdin",
     "output_type": "stream",
     "text": [
      "Iteration 2 - Press Enter to update the members of each cluster \n"
     ]
    },
    {
     "data": {
      "image/png": "[encoded data removed]",
      "text/plain": [
       "<Figure size 1080x720 with 1 Axes>"
      ]
     },
     "metadata": {
      "needs_background": "light"
     },
     "output_type": "display_data"
    },
    {
     "name": "stdin",
     "output_type": "stream",
     "text": [
      "Iteration 2 - Press Enter to update the centers \n"
     ]
    },
    {
     "data": {
      "image/png": "[encoded data removed]",
      "text/plain": [
       "<Figure size 1080x720 with 1 Axes>"
      ]
     },
     "metadata": {
      "needs_background": "light"
     },
     "output_type": "display_data"
    }
   ],
   "source": [
    "number_of_iterations = 2\n",
    "for i in range(number_of_iterations):\n",
    "    input('Iteration {} - Press Enter to update the members of each cluster'.format(i + 1))\n",
    "    colors, class_of_points = assign_members(x1, x2, centers)\n",
    "    title = 'Iteration {} - Cluster Assignment'.format(i + 1)\n",
    "    plot_points(centers, colors, figure_title=title)\n",
    "    input('Iteration {} - Press Enter to update the centers'.format(i + 1))\n",
    "    centers = update_centers(x1, x2, class_of_points)\n",
    "    title = 'Iteration {} - Centroid Update'.format(i + 1)\n",
    "    plot_points(centers, colors, figure_title=title)"
   ]
  },
  {
   "cell_type": "markdown",
   "metadata": {},
   "source": [
    "Defining 2 obvious cluster categories,\n",
    "Blue – small area with low population\n",
    "Red – Large area with high population\n",
    "In this case it is advisable to be selected provinces within the red clusters. We will be selected Longgang district for our exercise."
   ]
  },
  {
   "cell_type": "markdown",
   "metadata": {},
   "source": [
    "## 1. Search for a specific venue category"
   ]
  },
  {
   "cell_type": "code",
   "execution_count": 94,
   "metadata": {},
   "outputs": [
    {
     "name": "stdout",
     "output_type": "stream",
     "text": [
      "The geograpical coordinate of LONGGANG are 22.7230369, 114.2426561.\n"
     ]
    }
   ],
   "source": [
    "#Locate Longgang district\n",
    "address = 'LONGGANG DISTRICT'\n",
    "\n",
    "geolocator = Nominatim(user_agent=\"bryanlimql88@gmail.com\")\n",
    "location = geolocator.geocode(address)\n",
    "latitude = location.latitude\n",
    "longitude = location.longitude\n",
    "\n",
    "print('The geograpical coordinate of LONGGANG are {}, {}.'.format(latitude, longitude))"
   ]
  },
  {
   "cell_type": "code",
   "execution_count": 129,
   "metadata": {},
   "outputs": [
    {
     "name": "stdout",
     "output_type": "stream",
     "text": [
      "Fast Food .... OK!\n"
     ]
    }
   ],
   "source": [
    "radius = 20000\n",
    "LIMIT = 500\n",
    "print(search_query + ' .... OK!')"
   ]
  },
  {
   "cell_type": "code",
   "execution_count": 130,
   "metadata": {},
   "outputs": [
    {
     "data": {
      "text/plain": [
       "'https://api.foursquare.com/v2/venues/search?client_id=ADXZQUNM0FBD5O3JWD5U1X0AL24DKAVUVDHVGDBHSSL02SVM&client_secret=GJBXCKZZNZKB5YQ2WGNHSYEWTD43Y3WOALEL50UEKCJHHN3H&ll=22.7230369,114.2426561&v=20180604&radius=20000&limit=500'"
      ]
     },
     "execution_count": 130,
     "metadata": {},
     "output_type": "execute_result"
    }
   ],
   "source": [
    "url = 'https://api.foursquare.com/v2/venues/search?client_id={}&client_secret={}&ll={},{}&v={}&radius={}&limit={}'.format(CLIENT_ID, CLIENT_SECRET, latitude, longitude, VERSION, radius, LIMIT)\n",
    "url"
   ]
  },
  {
   "cell_type": "code",
   "execution_count": 173,
   "metadata": {},
   "outputs": [],
   "source": [
    "results = requests.get(url).json()"
   ]
  },
  {
   "cell_type": "code",
   "execution_count": 132,
   "metadata": {},
   "outputs": [
    {
     "name": "stderr",
     "output_type": "stream",
     "text": [
      "/home/jupyterlab/conda/envs/python/lib/python3.6/site-packages/ipykernel_launcher.py:8: FutureWarning: pandas.io.json.json_normalize is deprecated, use pandas.json_normalize instead\n",
      "  \n"
     ]
    },
    {
     "data": {
      "text/html": [
       "<div>\n",
       "<style scoped>\n",
       "    .dataframe tbody tr th:only-of-type {\n",
       "        vertical-align: middle;\n",
       "    }\n",
       "\n",
       "    .dataframe tbody tr th {\n",
       "        vertical-align: top;\n",
       "    }\n",
       "\n",
       "    .dataframe thead th {\n",
       "        text-align: right;\n",
       "    }\n",
       "</style>\n",
       "<table border=\"1\" class=\"dataframe\">\n",
       "  <thead>\n",
       "    <tr style=\"text-align: right;\">\n",
       "      <th></th>\n",
       "      <th>id</th>\n",
       "      <th>name</th>\n",
       "      <th>categories</th>\n",
       "      <th>referralId</th>\n",
       "      <th>hasPerk</th>\n",
       "      <th>location.address</th>\n",
       "      <th>location.lat</th>\n",
       "      <th>location.lng</th>\n",
       "      <th>location.labeledLatLngs</th>\n",
       "      <th>location.distance</th>\n",
       "      <th>location.cc</th>\n",
       "      <th>location.city</th>\n",
       "      <th>location.state</th>\n",
       "      <th>location.country</th>\n",
       "      <th>location.formattedAddress</th>\n",
       "      <th>location.crossStreet</th>\n",
       "      <th>location.postalCode</th>\n",
       "      <th>location.neighborhood</th>\n",
       "    </tr>\n",
       "  </thead>\n",
       "  <tbody>\n",
       "    <tr>\n",
       "      <th>0</th>\n",
       "      <td>51dfae05498e21755ce7426e</td>\n",
       "      <td>Longgang Library (龙岗图书馆)</td>\n",
       "      <td>[{'id': '4bf58dd8d48988d12f941735', 'name': 'L...</td>\n",
       "      <td>v-1591342498</td>\n",
       "      <td>False</td>\n",
       "      <td>龙岗区中心城文化中心D座</td>\n",
       "      <td>22.722238</td>\n",
       "      <td>114.245560</td>\n",
       "      <td>[{'label': 'display', 'lat': 22.72223775324083...</td>\n",
       "      <td>311</td>\n",
       "      <td>CN</td>\n",
       "      <td>深圳市</td>\n",
       "      <td>广东</td>\n",
       "      <td>中国</td>\n",
       "      <td>[龙岗区中心城文化中心D座, 深圳市, 广东, 中国]</td>\n",
       "      <td>NaN</td>\n",
       "      <td>NaN</td>\n",
       "      <td>NaN</td>\n",
       "    </tr>\n",
       "    <tr>\n",
       "      <th>1</th>\n",
       "      <td>4f001d6ea69d45461de11862</td>\n",
       "      <td>世茂百货 World Trade Department Store</td>\n",
       "      <td>[{'id': '4bf58dd8d48988d1f6941735', 'name': 'D...</td>\n",
       "      <td>v-1591342498</td>\n",
       "      <td>False</td>\n",
       "      <td>龙翔大街 Longxiang Ave</td>\n",
       "      <td>22.719586</td>\n",
       "      <td>114.241376</td>\n",
       "      <td>[{'label': 'display', 'lat': 22.71958613352482...</td>\n",
       "      <td>406</td>\n",
       "      <td>CN</td>\n",
       "      <td>龙岗</td>\n",
       "      <td>广东</td>\n",
       "      <td>中国</td>\n",
       "      <td>[龙翔大街 Longxiang Ave, 龙岗, 广东, 中国]</td>\n",
       "      <td>NaN</td>\n",
       "      <td>NaN</td>\n",
       "      <td>NaN</td>\n",
       "    </tr>\n",
       "    <tr>\n",
       "      <th>2</th>\n",
       "      <td>56cac560498e4bcc8ac3280a</td>\n",
       "      <td>深圳龙岗公安分局出入境管理大厅</td>\n",
       "      <td>[{'id': '4bf58dd8d48988d12e941735', 'name': 'P...</td>\n",
       "      <td>v-1591342498</td>\n",
       "      <td>False</td>\n",
       "      <td>NaN</td>\n",
       "      <td>22.720527</td>\n",
       "      <td>114.239671</td>\n",
       "      <td>[{'label': 'display', 'lat': 22.720527, 'lng':...</td>\n",
       "      <td>414</td>\n",
       "      <td>CN</td>\n",
       "      <td>深圳市</td>\n",
       "      <td>广东</td>\n",
       "      <td>中国</td>\n",
       "      <td>[深圳市, 广东, 中国]</td>\n",
       "      <td>NaN</td>\n",
       "      <td>NaN</td>\n",
       "      <td>NaN</td>\n",
       "    </tr>\n",
       "    <tr>\n",
       "      <th>3</th>\n",
       "      <td>4cc7db54f2d437047535cb6c</td>\n",
       "      <td>吉祥中路</td>\n",
       "      <td>[{'id': '4bf58dd8d48988d164941735', 'name': 'P...</td>\n",
       "      <td>v-1591342498</td>\n",
       "      <td>False</td>\n",
       "      <td>吉祥中路</td>\n",
       "      <td>22.716531</td>\n",
       "      <td>114.236591</td>\n",
       "      <td>[{'label': 'display', 'lat': 22.7165314766769,...</td>\n",
       "      <td>955</td>\n",
       "      <td>CN</td>\n",
       "      <td>深圳市</td>\n",
       "      <td>广东</td>\n",
       "      <td>中国</td>\n",
       "      <td>[吉祥中路, 深圳市, 广东, 中国]</td>\n",
       "      <td>NaN</td>\n",
       "      <td>NaN</td>\n",
       "      <td>NaN</td>\n",
       "    </tr>\n",
       "    <tr>\n",
       "      <th>4</th>\n",
       "      <td>4c233ee2fbe5c9b6cd129b21</td>\n",
       "      <td>Changsha Railway Station (长沙站)</td>\n",
       "      <td>[{'id': '4bf58dd8d48988d129951735', 'name': 'T...</td>\n",
       "      <td>v-1591342498</td>\n",
       "      <td>False</td>\n",
       "      <td>车站中路406号</td>\n",
       "      <td>28.197340</td>\n",
       "      <td>113.008068</td>\n",
       "      <td>[{'label': 'display', 'lat': 28.19734, 'lng': ...</td>\n",
       "      <td>621882</td>\n",
       "      <td>CN</td>\n",
       "      <td>長沙</td>\n",
       "      <td>湖南</td>\n",
       "      <td>中国</td>\n",
       "      <td>[车站中路406号 (五一大道口), 長沙, 湖南, 410001, 中国]</td>\n",
       "      <td>五一大道口</td>\n",
       "      <td>410001</td>\n",
       "      <td>NaN</td>\n",
       "    </tr>\n",
       "  </tbody>\n",
       "</table>\n",
       "</div>"
      ],
      "text/plain": [
       "                         id                               name  \\\n",
       "0  51dfae05498e21755ce7426e           Longgang Library (龙岗图书馆)   \n",
       "1  4f001d6ea69d45461de11862  世茂百货 World Trade Department Store   \n",
       "2  56cac560498e4bcc8ac3280a                    深圳龙岗公安分局出入境管理大厅   \n",
       "3  4cc7db54f2d437047535cb6c                               吉祥中路   \n",
       "4  4c233ee2fbe5c9b6cd129b21     Changsha Railway Station (长沙站)   \n",
       "\n",
       "                                          categories    referralId  hasPerk  \\\n",
       "0  [{'id': '4bf58dd8d48988d12f941735', 'name': 'L...  v-1591342498    False   \n",
       "1  [{'id': '4bf58dd8d48988d1f6941735', 'name': 'D...  v-1591342498    False   \n",
       "2  [{'id': '4bf58dd8d48988d12e941735', 'name': 'P...  v-1591342498    False   \n",
       "3  [{'id': '4bf58dd8d48988d164941735', 'name': 'P...  v-1591342498    False   \n",
       "4  [{'id': '4bf58dd8d48988d129951735', 'name': 'T...  v-1591342498    False   \n",
       "\n",
       "     location.address  location.lat  location.lng  \\\n",
       "0        龙岗区中心城文化中心D座     22.722238    114.245560   \n",
       "1  龙翔大街 Longxiang Ave     22.719586    114.241376   \n",
       "2                 NaN     22.720527    114.239671   \n",
       "3                吉祥中路     22.716531    114.236591   \n",
       "4            车站中路406号     28.197340    113.008068   \n",
       "\n",
       "                             location.labeledLatLngs  location.distance  \\\n",
       "0  [{'label': 'display', 'lat': 22.72223775324083...                311   \n",
       "1  [{'label': 'display', 'lat': 22.71958613352482...                406   \n",
       "2  [{'label': 'display', 'lat': 22.720527, 'lng':...                414   \n",
       "3  [{'label': 'display', 'lat': 22.7165314766769,...                955   \n",
       "4  [{'label': 'display', 'lat': 28.19734, 'lng': ...             621882   \n",
       "\n",
       "  location.cc location.city location.state location.country  \\\n",
       "0          CN           深圳市             广东               中国   \n",
       "1          CN            龙岗             广东               中国   \n",
       "2          CN           深圳市             广东               中国   \n",
       "3          CN           深圳市             广东               中国   \n",
       "4          CN            長沙             湖南               中国   \n",
       "\n",
       "                location.formattedAddress location.crossStreet  \\\n",
       "0             [龙岗区中心城文化中心D座, 深圳市, 广东, 中国]                  NaN   \n",
       "1        [龙翔大街 Longxiang Ave, 龙岗, 广东, 中国]                  NaN   \n",
       "2                           [深圳市, 广东, 中国]                  NaN   \n",
       "3                     [吉祥中路, 深圳市, 广东, 中国]                  NaN   \n",
       "4  [车站中路406号 (五一大道口), 長沙, 湖南, 410001, 中国]                五一大道口   \n",
       "\n",
       "  location.postalCode location.neighborhood  \n",
       "0                 NaN                   NaN  \n",
       "1                 NaN                   NaN  \n",
       "2                 NaN                   NaN  \n",
       "3                 NaN                   NaN  \n",
       "4              410001                   NaN  "
      ]
     },
     "execution_count": 132,
     "metadata": {},
     "output_type": "execute_result"
    }
   ],
   "source": [
    "# tranforming json file into a pandas dataframe library\n",
    "from pandas.io.json import json_normalize\n",
    "\n",
    "# assign relevant part of JSON to venues\n",
    "venues = results['response']['venues']\n",
    "\n",
    "# tranform venues into a dataframe\n",
    "dataframe = json_normalize(venues)\n",
    "dataframe.head()"
   ]
  },
  {
   "cell_type": "markdown",
   "metadata": {},
   "source": [
    "#### Define information of interest and filter dataframe"
   ]
  },
  {
   "cell_type": "code",
   "execution_count": 133,
   "metadata": {},
   "outputs": [
    {
     "data": {
      "text/html": [
       "<div>\n",
       "<style scoped>\n",
       "    .dataframe tbody tr th:only-of-type {\n",
       "        vertical-align: middle;\n",
       "    }\n",
       "\n",
       "    .dataframe tbody tr th {\n",
       "        vertical-align: top;\n",
       "    }\n",
       "\n",
       "    .dataframe thead th {\n",
       "        text-align: right;\n",
       "    }\n",
       "</style>\n",
       "<table border=\"1\" class=\"dataframe\">\n",
       "  <thead>\n",
       "    <tr style=\"text-align: right;\">\n",
       "      <th></th>\n",
       "      <th>name</th>\n",
       "      <th>categories</th>\n",
       "      <th>address</th>\n",
       "      <th>lat</th>\n",
       "      <th>lng</th>\n",
       "      <th>labeledLatLngs</th>\n",
       "      <th>distance</th>\n",
       "      <th>cc</th>\n",
       "      <th>city</th>\n",
       "      <th>state</th>\n",
       "      <th>country</th>\n",
       "      <th>formattedAddress</th>\n",
       "      <th>crossStreet</th>\n",
       "      <th>postalCode</th>\n",
       "      <th>neighborhood</th>\n",
       "      <th>id</th>\n",
       "    </tr>\n",
       "  </thead>\n",
       "  <tbody>\n",
       "    <tr>\n",
       "      <th>0</th>\n",
       "      <td>Longgang Library (龙岗图书馆)</td>\n",
       "      <td>Library</td>\n",
       "      <td>龙岗区中心城文化中心D座</td>\n",
       "      <td>22.722238</td>\n",
       "      <td>114.245560</td>\n",
       "      <td>[{'label': 'display', 'lat': 22.72223775324083...</td>\n",
       "      <td>311</td>\n",
       "      <td>CN</td>\n",
       "      <td>深圳市</td>\n",
       "      <td>广东</td>\n",
       "      <td>中国</td>\n",
       "      <td>[龙岗区中心城文化中心D座, 深圳市, 广东, 中国]</td>\n",
       "      <td>NaN</td>\n",
       "      <td>NaN</td>\n",
       "      <td>NaN</td>\n",
       "      <td>51dfae05498e21755ce7426e</td>\n",
       "    </tr>\n",
       "    <tr>\n",
       "      <th>1</th>\n",
       "      <td>世茂百货 World Trade Department Store</td>\n",
       "      <td>Department Store</td>\n",
       "      <td>龙翔大街 Longxiang Ave</td>\n",
       "      <td>22.719586</td>\n",
       "      <td>114.241376</td>\n",
       "      <td>[{'label': 'display', 'lat': 22.71958613352482...</td>\n",
       "      <td>406</td>\n",
       "      <td>CN</td>\n",
       "      <td>龙岗</td>\n",
       "      <td>广东</td>\n",
       "      <td>中国</td>\n",
       "      <td>[龙翔大街 Longxiang Ave, 龙岗, 广东, 中国]</td>\n",
       "      <td>NaN</td>\n",
       "      <td>NaN</td>\n",
       "      <td>NaN</td>\n",
       "      <td>4f001d6ea69d45461de11862</td>\n",
       "    </tr>\n",
       "    <tr>\n",
       "      <th>2</th>\n",
       "      <td>深圳龙岗公安分局出入境管理大厅</td>\n",
       "      <td>Police Station</td>\n",
       "      <td>NaN</td>\n",
       "      <td>22.720527</td>\n",
       "      <td>114.239671</td>\n",
       "      <td>[{'label': 'display', 'lat': 22.720527, 'lng':...</td>\n",
       "      <td>414</td>\n",
       "      <td>CN</td>\n",
       "      <td>深圳市</td>\n",
       "      <td>广东</td>\n",
       "      <td>中国</td>\n",
       "      <td>[深圳市, 广东, 中国]</td>\n",
       "      <td>NaN</td>\n",
       "      <td>NaN</td>\n",
       "      <td>NaN</td>\n",
       "      <td>56cac560498e4bcc8ac3280a</td>\n",
       "    </tr>\n",
       "    <tr>\n",
       "      <th>3</th>\n",
       "      <td>吉祥中路</td>\n",
       "      <td>Plaza</td>\n",
       "      <td>吉祥中路</td>\n",
       "      <td>22.716531</td>\n",
       "      <td>114.236591</td>\n",
       "      <td>[{'label': 'display', 'lat': 22.7165314766769,...</td>\n",
       "      <td>955</td>\n",
       "      <td>CN</td>\n",
       "      <td>深圳市</td>\n",
       "      <td>广东</td>\n",
       "      <td>中国</td>\n",
       "      <td>[吉祥中路, 深圳市, 广东, 中国]</td>\n",
       "      <td>NaN</td>\n",
       "      <td>NaN</td>\n",
       "      <td>NaN</td>\n",
       "      <td>4cc7db54f2d437047535cb6c</td>\n",
       "    </tr>\n",
       "    <tr>\n",
       "      <th>4</th>\n",
       "      <td>Changsha Railway Station (长沙站)</td>\n",
       "      <td>Train Station</td>\n",
       "      <td>车站中路406号</td>\n",
       "      <td>28.197340</td>\n",
       "      <td>113.008068</td>\n",
       "      <td>[{'label': 'display', 'lat': 28.19734, 'lng': ...</td>\n",
       "      <td>621882</td>\n",
       "      <td>CN</td>\n",
       "      <td>長沙</td>\n",
       "      <td>湖南</td>\n",
       "      <td>中国</td>\n",
       "      <td>[车站中路406号 (五一大道口), 長沙, 湖南, 410001, 中国]</td>\n",
       "      <td>五一大道口</td>\n",
       "      <td>410001</td>\n",
       "      <td>NaN</td>\n",
       "      <td>4c233ee2fbe5c9b6cd129b21</td>\n",
       "    </tr>\n",
       "    <tr>\n",
       "      <th>...</th>\n",
       "      <td>...</td>\n",
       "      <td>...</td>\n",
       "      <td>...</td>\n",
       "      <td>...</td>\n",
       "      <td>...</td>\n",
       "      <td>...</td>\n",
       "      <td>...</td>\n",
       "      <td>...</td>\n",
       "      <td>...</td>\n",
       "      <td>...</td>\n",
       "      <td>...</td>\n",
       "      <td>...</td>\n",
       "      <td>...</td>\n",
       "      <td>...</td>\n",
       "      <td>...</td>\n",
       "      <td>...</td>\n",
       "    </tr>\n",
       "    <tr>\n",
       "      <th>122</th>\n",
       "      <td>老西安</td>\n",
       "      <td>Shaanxi Restaurant</td>\n",
       "      <td>NaN</td>\n",
       "      <td>22.716910</td>\n",
       "      <td>114.238041</td>\n",
       "      <td>[{'label': 'display', 'lat': 22.71691, 'lng': ...</td>\n",
       "      <td>830</td>\n",
       "      <td>CN</td>\n",
       "      <td>NaN</td>\n",
       "      <td>NaN</td>\n",
       "      <td>中国</td>\n",
       "      <td>[中国]</td>\n",
       "      <td>NaN</td>\n",
       "      <td>NaN</td>\n",
       "      <td>NaN</td>\n",
       "      <td>536e089e498e3f089fc264c6</td>\n",
       "    </tr>\n",
       "    <tr>\n",
       "      <th>123</th>\n",
       "      <td>Cafe 2011</td>\n",
       "      <td>Breakfast Spot</td>\n",
       "      <td>Lobby at Crown Plaza</td>\n",
       "      <td>22.726000</td>\n",
       "      <td>114.245693</td>\n",
       "      <td>[{'label': 'display', 'lat': 22.72600043545933...</td>\n",
       "      <td>453</td>\n",
       "      <td>CN</td>\n",
       "      <td>NaN</td>\n",
       "      <td>NaN</td>\n",
       "      <td>中国</td>\n",
       "      <td>[Lobby at Crown Plaza, 中国]</td>\n",
       "      <td>NaN</td>\n",
       "      <td>NaN</td>\n",
       "      <td>NaN</td>\n",
       "      <td>54f12a21498e31ed2e4d3ad0</td>\n",
       "    </tr>\n",
       "    <tr>\n",
       "      <th>124</th>\n",
       "      <td>Xiao Mian Lao (小面捞)</td>\n",
       "      <td>Szechuan Restaurant</td>\n",
       "      <td>NaN</td>\n",
       "      <td>22.717620</td>\n",
       "      <td>114.238585</td>\n",
       "      <td>[{'label': 'display', 'lat': 22.71762, 'lng': ...</td>\n",
       "      <td>733</td>\n",
       "      <td>CN</td>\n",
       "      <td>NaN</td>\n",
       "      <td>NaN</td>\n",
       "      <td>中国</td>\n",
       "      <td>[中国]</td>\n",
       "      <td>NaN</td>\n",
       "      <td>NaN</td>\n",
       "      <td>NaN</td>\n",
       "      <td>57010a69498e0dfad3e56be4</td>\n",
       "    </tr>\n",
       "    <tr>\n",
       "      <th>125</th>\n",
       "      <td>歌巢KTV</td>\n",
       "      <td>Karaoke Bar</td>\n",
       "      <td>NaN</td>\n",
       "      <td>22.725994</td>\n",
       "      <td>114.245664</td>\n",
       "      <td>[{'label': 'display', 'lat': 22.72599419922690...</td>\n",
       "      <td>451</td>\n",
       "      <td>CN</td>\n",
       "      <td>NaN</td>\n",
       "      <td>NaN</td>\n",
       "      <td>中国</td>\n",
       "      <td>[中国]</td>\n",
       "      <td>NaN</td>\n",
       "      <td>NaN</td>\n",
       "      <td>NaN</td>\n",
       "      <td>4f1ebc38e4b03f6d8ebe52e0</td>\n",
       "    </tr>\n",
       "    <tr>\n",
       "      <th>126</th>\n",
       "      <td>King Of Beef Hot Pot</td>\n",
       "      <td>Asian Restaurant</td>\n",
       "      <td>NaN</td>\n",
       "      <td>22.728835</td>\n",
       "      <td>114.238217</td>\n",
       "      <td>[{'label': 'display', 'lat': 22.72883466724170...</td>\n",
       "      <td>790</td>\n",
       "      <td>CN</td>\n",
       "      <td>深圳市</td>\n",
       "      <td>广东</td>\n",
       "      <td>中国</td>\n",
       "      <td>[深圳市, 广东, 中国]</td>\n",
       "      <td>NaN</td>\n",
       "      <td>NaN</td>\n",
       "      <td>NaN</td>\n",
       "      <td>4db5572b1e7248d135b19ac7</td>\n",
       "    </tr>\n",
       "  </tbody>\n",
       "</table>\n",
       "<p>127 rows × 16 columns</p>\n",
       "</div>"
      ],
      "text/plain": [
       "                                  name           categories  \\\n",
       "0             Longgang Library (龙岗图书馆)              Library   \n",
       "1    世茂百货 World Trade Department Store     Department Store   \n",
       "2                      深圳龙岗公安分局出入境管理大厅       Police Station   \n",
       "3                                 吉祥中路                Plaza   \n",
       "4       Changsha Railway Station (长沙站)        Train Station   \n",
       "..                                 ...                  ...   \n",
       "122                                老西安   Shaanxi Restaurant   \n",
       "123                          Cafe 2011       Breakfast Spot   \n",
       "124                Xiao Mian Lao (小面捞)  Szechuan Restaurant   \n",
       "125                              歌巢KTV          Karaoke Bar   \n",
       "126               King Of Beef Hot Pot     Asian Restaurant   \n",
       "\n",
       "                  address        lat         lng  \\\n",
       "0            龙岗区中心城文化中心D座  22.722238  114.245560   \n",
       "1      龙翔大街 Longxiang Ave  22.719586  114.241376   \n",
       "2                     NaN  22.720527  114.239671   \n",
       "3                    吉祥中路  22.716531  114.236591   \n",
       "4                车站中路406号  28.197340  113.008068   \n",
       "..                    ...        ...         ...   \n",
       "122                   NaN  22.716910  114.238041   \n",
       "123  Lobby at Crown Plaza  22.726000  114.245693   \n",
       "124                   NaN  22.717620  114.238585   \n",
       "125                   NaN  22.725994  114.245664   \n",
       "126                   NaN  22.728835  114.238217   \n",
       "\n",
       "                                        labeledLatLngs  distance  cc city  \\\n",
       "0    [{'label': 'display', 'lat': 22.72223775324083...       311  CN  深圳市   \n",
       "1    [{'label': 'display', 'lat': 22.71958613352482...       406  CN   龙岗   \n",
       "2    [{'label': 'display', 'lat': 22.720527, 'lng':...       414  CN  深圳市   \n",
       "3    [{'label': 'display', 'lat': 22.7165314766769,...       955  CN  深圳市   \n",
       "4    [{'label': 'display', 'lat': 28.19734, 'lng': ...    621882  CN   長沙   \n",
       "..                                                 ...       ...  ..  ...   \n",
       "122  [{'label': 'display', 'lat': 22.71691, 'lng': ...       830  CN  NaN   \n",
       "123  [{'label': 'display', 'lat': 22.72600043545933...       453  CN  NaN   \n",
       "124  [{'label': 'display', 'lat': 22.71762, 'lng': ...       733  CN  NaN   \n",
       "125  [{'label': 'display', 'lat': 22.72599419922690...       451  CN  NaN   \n",
       "126  [{'label': 'display', 'lat': 22.72883466724170...       790  CN  深圳市   \n",
       "\n",
       "    state country                        formattedAddress crossStreet  \\\n",
       "0      广东      中国             [龙岗区中心城文化中心D座, 深圳市, 广东, 中国]         NaN   \n",
       "1      广东      中国        [龙翔大街 Longxiang Ave, 龙岗, 广东, 中国]         NaN   \n",
       "2      广东      中国                           [深圳市, 广东, 中国]         NaN   \n",
       "3      广东      中国                     [吉祥中路, 深圳市, 广东, 中国]         NaN   \n",
       "4      湖南      中国  [车站中路406号 (五一大道口), 長沙, 湖南, 410001, 中国]       五一大道口   \n",
       "..    ...     ...                                     ...         ...   \n",
       "122   NaN      中国                                    [中国]         NaN   \n",
       "123   NaN      中国              [Lobby at Crown Plaza, 中国]         NaN   \n",
       "124   NaN      中国                                    [中国]         NaN   \n",
       "125   NaN      中国                                    [中国]         NaN   \n",
       "126    广东      中国                           [深圳市, 广东, 中国]         NaN   \n",
       "\n",
       "    postalCode neighborhood                        id  \n",
       "0          NaN          NaN  51dfae05498e21755ce7426e  \n",
       "1          NaN          NaN  4f001d6ea69d45461de11862  \n",
       "2          NaN          NaN  56cac560498e4bcc8ac3280a  \n",
       "3          NaN          NaN  4cc7db54f2d437047535cb6c  \n",
       "4       410001          NaN  4c233ee2fbe5c9b6cd129b21  \n",
       "..         ...          ...                       ...  \n",
       "122        NaN          NaN  536e089e498e3f089fc264c6  \n",
       "123        NaN          NaN  54f12a21498e31ed2e4d3ad0  \n",
       "124        NaN          NaN  57010a69498e0dfad3e56be4  \n",
       "125        NaN          NaN  4f1ebc38e4b03f6d8ebe52e0  \n",
       "126        NaN          NaN  4db5572b1e7248d135b19ac7  \n",
       "\n",
       "[127 rows x 16 columns]"
      ]
     },
     "execution_count": 133,
     "metadata": {},
     "output_type": "execute_result"
    }
   ],
   "source": [
    "# keep only columns that include venue name, and anything that is associated with location\n",
    "filtered_columns = ['name', 'categories'] + [col for col in dataframe.columns if col.startswith('location.')] + ['id']\n",
    "dataframe_filtered = dataframe.loc[:, filtered_columns]\n",
    "\n",
    "# function that extracts the category of the venue\n",
    "def get_category_type(row):\n",
    "    try:\n",
    "        categories_list = row['categories']\n",
    "    except:\n",
    "        categories_list = row['venue.categories']\n",
    "        \n",
    "    if len(categories_list) == 0:\n",
    "        return None\n",
    "    else:\n",
    "        return categories_list[0]['name']\n",
    "\n",
    "# filter the category for each row\n",
    "dataframe_filtered['categories'] = dataframe_filtered.apply(get_category_type, axis=1)\n",
    "\n",
    "# clean column names by keeping only last term\n",
    "dataframe_filtered.columns = [column.split('.')[-1] for column in dataframe_filtered.columns]\n",
    "\n",
    "dataframe_filtered"
   ]
  },
  {
   "cell_type": "markdown",
   "metadata": {},
   "source": [
    "## Explore Neighborhoods in Longgang District"
   ]
  },
  {
   "cell_type": "markdown",
   "metadata": {},
   "source": [
    "Group each categories"
   ]
  },
  {
   "cell_type": "code",
   "execution_count": 139,
   "metadata": {},
   "outputs": [
    {
     "data": {
      "text/html": [
       "<div>\n",
       "<style scoped>\n",
       "    .dataframe tbody tr th:only-of-type {\n",
       "        vertical-align: middle;\n",
       "    }\n",
       "\n",
       "    .dataframe tbody tr th {\n",
       "        vertical-align: top;\n",
       "    }\n",
       "\n",
       "    .dataframe thead th {\n",
       "        text-align: right;\n",
       "    }\n",
       "</style>\n",
       "<table border=\"1\" class=\"dataframe\">\n",
       "  <thead>\n",
       "    <tr style=\"text-align: right;\">\n",
       "      <th></th>\n",
       "      <th>categories</th>\n",
       "      <th>name</th>\n",
       "    </tr>\n",
       "  </thead>\n",
       "  <tbody>\n",
       "    <tr>\n",
       "      <th>0</th>\n",
       "      <td>Arcade</td>\n",
       "      <td>1</td>\n",
       "    </tr>\n",
       "    <tr>\n",
       "      <th>1</th>\n",
       "      <td>Asian Restaurant</td>\n",
       "      <td>1</td>\n",
       "    </tr>\n",
       "    <tr>\n",
       "      <th>2</th>\n",
       "      <td>BBQ Joint</td>\n",
       "      <td>1</td>\n",
       "    </tr>\n",
       "    <tr>\n",
       "      <th>3</th>\n",
       "      <td>Badminton Court</td>\n",
       "      <td>1</td>\n",
       "    </tr>\n",
       "    <tr>\n",
       "      <th>4</th>\n",
       "      <td>Bakery</td>\n",
       "      <td>2</td>\n",
       "    </tr>\n",
       "    <tr>\n",
       "      <th>...</th>\n",
       "      <td>...</td>\n",
       "      <td>...</td>\n",
       "    </tr>\n",
       "    <tr>\n",
       "      <th>70</th>\n",
       "      <td>Town Hall</td>\n",
       "      <td>1</td>\n",
       "    </tr>\n",
       "    <tr>\n",
       "      <th>71</th>\n",
       "      <td>Toy / Game Store</td>\n",
       "      <td>1</td>\n",
       "    </tr>\n",
       "    <tr>\n",
       "      <th>72</th>\n",
       "      <td>Train Station</td>\n",
       "      <td>1</td>\n",
       "    </tr>\n",
       "    <tr>\n",
       "      <th>73</th>\n",
       "      <td>Wine Bar</td>\n",
       "      <td>1</td>\n",
       "    </tr>\n",
       "    <tr>\n",
       "      <th>74</th>\n",
       "      <td>Zhejiang Restaurant</td>\n",
       "      <td>1</td>\n",
       "    </tr>\n",
       "  </tbody>\n",
       "</table>\n",
       "<p>75 rows × 2 columns</p>\n",
       "</div>"
      ],
      "text/plain": [
       "             categories  name\n",
       "0                Arcade     1\n",
       "1      Asian Restaurant     1\n",
       "2             BBQ Joint     1\n",
       "3       Badminton Court     1\n",
       "4                Bakery     2\n",
       "..                  ...   ...\n",
       "70            Town Hall     1\n",
       "71     Toy / Game Store     1\n",
       "72        Train Station     1\n",
       "73             Wine Bar     1\n",
       "74  Zhejiang Restaurant     1\n",
       "\n",
       "[75 rows x 2 columns]"
      ]
     },
     "execution_count": 139,
     "metadata": {},
     "output_type": "execute_result"
    }
   ],
   "source": [
    "df_grouped = dataframe_filtered.groupby('categories').count().reset_index()\n",
    "df_grouped[['categories', 'name']]"
   ]
  },
  {
   "cell_type": "markdown",
   "metadata": {},
   "source": [
    "Which are the most famous venues in Longgang?"
   ]
  },
  {
   "cell_type": "code",
   "execution_count": 145,
   "metadata": {},
   "outputs": [
    {
     "data": {
      "text/html": [
       "<div>\n",
       "<style scoped>\n",
       "    .dataframe tbody tr th:only-of-type {\n",
       "        vertical-align: middle;\n",
       "    }\n",
       "\n",
       "    .dataframe tbody tr th {\n",
       "        vertical-align: top;\n",
       "    }\n",
       "\n",
       "    .dataframe thead th {\n",
       "        text-align: right;\n",
       "    }\n",
       "</style>\n",
       "<table border=\"1\" class=\"dataframe\">\n",
       "  <thead>\n",
       "    <tr style=\"text-align: right;\">\n",
       "      <th></th>\n",
       "      <th>categories</th>\n",
       "      <th>name</th>\n",
       "    </tr>\n",
       "  </thead>\n",
       "  <tbody>\n",
       "    <tr>\n",
       "      <th>14</th>\n",
       "      <td>Chinese Restaurant</td>\n",
       "      <td>9</td>\n",
       "    </tr>\n",
       "    <tr>\n",
       "      <th>11</th>\n",
       "      <td>Café</td>\n",
       "      <td>5</td>\n",
       "    </tr>\n",
       "    <tr>\n",
       "      <th>27</th>\n",
       "      <td>Government Building</td>\n",
       "      <td>4</td>\n",
       "    </tr>\n",
       "    <tr>\n",
       "      <th>13</th>\n",
       "      <td>Cantonese Restaurant</td>\n",
       "      <td>4</td>\n",
       "    </tr>\n",
       "    <tr>\n",
       "      <th>67</th>\n",
       "      <td>Sushi Restaurant</td>\n",
       "      <td>4</td>\n",
       "    </tr>\n",
       "    <tr>\n",
       "      <th>10</th>\n",
       "      <td>Bubble Tea Shop</td>\n",
       "      <td>4</td>\n",
       "    </tr>\n",
       "    <tr>\n",
       "      <th>16</th>\n",
       "      <td>Coffee Shop</td>\n",
       "      <td>3</td>\n",
       "    </tr>\n",
       "    <tr>\n",
       "      <th>39</th>\n",
       "      <td>Karaoke Bar</td>\n",
       "      <td>3</td>\n",
       "    </tr>\n",
       "    <tr>\n",
       "      <th>64</th>\n",
       "      <td>Shopping Mall</td>\n",
       "      <td>3</td>\n",
       "    </tr>\n",
       "    <tr>\n",
       "      <th>29</th>\n",
       "      <td>Gym</td>\n",
       "      <td>3</td>\n",
       "    </tr>\n",
       "  </tbody>\n",
       "</table>\n",
       "</div>"
      ],
      "text/plain": [
       "              categories  name\n",
       "14    Chinese Restaurant     9\n",
       "11                  Café     5\n",
       "27   Government Building     4\n",
       "13  Cantonese Restaurant     4\n",
       "67      Sushi Restaurant     4\n",
       "10       Bubble Tea Shop     4\n",
       "16           Coffee Shop     3\n",
       "39           Karaoke Bar     3\n",
       "64         Shopping Mall     3\n",
       "29                   Gym     3"
      ]
     },
     "execution_count": 145,
     "metadata": {},
     "output_type": "execute_result"
    }
   ],
   "source": [
    "df_grouped1 = df_grouped[['categories', 'name']].sort_values('name', ascending=False)\n",
    "df_grouped1.head(10)"
   ]
  },
  {
   "cell_type": "markdown",
   "metadata": {},
   "source": [
    "#### As we can see, the top dining cusines are mostly asian and introducing a European fast food in Longgang district may be a fresh idea to the locals."
   ]
  },
  {
   "cell_type": "markdown",
   "metadata": {},
   "source": [
    "Filter original list down to only top categories"
   ]
  },
  {
   "cell_type": "code",
   "execution_count": 169,
   "metadata": {},
   "outputs": [
    {
     "data": {
      "text/html": [
       "<div>\n",
       "<style scoped>\n",
       "    .dataframe tbody tr th:only-of-type {\n",
       "        vertical-align: middle;\n",
       "    }\n",
       "\n",
       "    .dataframe tbody tr th {\n",
       "        vertical-align: top;\n",
       "    }\n",
       "\n",
       "    .dataframe thead th {\n",
       "        text-align: right;\n",
       "    }\n",
       "</style>\n",
       "<table border=\"1\" class=\"dataframe\">\n",
       "  <thead>\n",
       "    <tr style=\"text-align: right;\">\n",
       "      <th></th>\n",
       "      <th>name</th>\n",
       "      <th>categories</th>\n",
       "      <th>lat</th>\n",
       "      <th>lng</th>\n",
       "    </tr>\n",
       "  </thead>\n",
       "  <tbody>\n",
       "    <tr>\n",
       "      <th>9</th>\n",
       "      <td>一点点</td>\n",
       "      <td>Bubble Tea Shop</td>\n",
       "      <td>22.721095</td>\n",
       "      <td>114.241991</td>\n",
       "    </tr>\n",
       "    <tr>\n",
       "      <th>16</th>\n",
       "      <td>瑞幸咖啡</td>\n",
       "      <td>Café</td>\n",
       "      <td>22.722529</td>\n",
       "      <td>114.249876</td>\n",
       "    </tr>\n",
       "    <tr>\n",
       "      <th>23</th>\n",
       "      <td>Gong Cha (贡茶)</td>\n",
       "      <td>Bubble Tea Shop</td>\n",
       "      <td>22.727244</td>\n",
       "      <td>114.245310</td>\n",
       "    </tr>\n",
       "    <tr>\n",
       "      <th>24</th>\n",
       "      <td>九贺割烹料理</td>\n",
       "      <td>Sushi Restaurant</td>\n",
       "      <td>22.724373</td>\n",
       "      <td>114.250281</td>\n",
       "    </tr>\n",
       "    <tr>\n",
       "      <th>25</th>\n",
       "      <td>夜郎國</td>\n",
       "      <td>Chinese Restaurant</td>\n",
       "      <td>22.723206</td>\n",
       "      <td>114.238882</td>\n",
       "    </tr>\n",
       "  </tbody>\n",
       "</table>\n",
       "</div>"
      ],
      "text/plain": [
       "             name          categories        lat         lng\n",
       "9             一点点     Bubble Tea Shop  22.721095  114.241991\n",
       "16           瑞幸咖啡                Café  22.722529  114.249876\n",
       "23  Gong Cha (贡茶)     Bubble Tea Shop  22.727244  114.245310\n",
       "24         九贺割烹料理    Sushi Restaurant  22.724373  114.250281\n",
       "25            夜郎國  Chinese Restaurant  22.723206  114.238882"
      ]
     },
     "execution_count": 169,
     "metadata": {},
     "output_type": "execute_result"
    }
   ],
   "source": [
    "filter_list = ['Chinese Restaurant', 'Bubble Tea Shop', 'Cantonese Restaurant', 'Café', 'Sushi Restaurant', 'Coffee Shop']\n",
    "df_filtered = dataframe_filtered[dataframe_filtered.categories.isin(filter_list)]\n",
    "df_filtered = df_filtered[['name', 'categories', 'lat', 'lng']]\n",
    "df_filtered.head()"
   ]
  },
  {
   "cell_type": "code",
   "execution_count": 172,
   "metadata": {},
   "outputs": [
    {
     "data": {
      "text/html": [
       "<div style=\"width:100%;\"><div style=\"position:relative;width:100%;height:0;padding-bottom:60%;\"><span style=\"color:#565656\">Make this Notebook Trusted to load map: File -> Trust Notebook</span><iframe src=\"about:blank\" style=\"position:absolute;width:100%;height:100%;left:0;top:0;border:none !important;\" data-html=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 onload=\"this.contentDocument.open();this.contentDocument.write(atob(this.getAttribute('data-html')));this.contentDocument.close();\" allowfullscreen webkitallowfullscreen mozallowfullscreen></iframe></div></div>"
      ],
      "text/plain": [
       "<folium.folium.Map at 0x7f7c1414a8d0>"
      ]
     },
     "execution_count": 172,
     "metadata": {},
     "output_type": "execute_result"
    }
   ],
   "source": [
    "venues_map = folium.Map(location=[latitude, longitude], zoom_start=15) # generate map centred around the Conrad Hotel\n",
    "\n",
    "for lat, lng, label in zip(dataframe_filtered.lat, dataframe_filtered.lng, dataframe_filtered.categories):\n",
    "    folium.features.CircleMarker(\n",
    "        [lat, lng],\n",
    "        radius=5,\n",
    "        color='blue',\n",
    "        popup=label,\n",
    "        fill = True,\n",
    "        fill_color='blue',\n",
    "        fill_opacity=0.6\n",
    "    ).add_to(venues_map)\n",
    "\n",
    "# display map\n",
    "venues_map"
   ]
  },
  {
   "cell_type": "code",
   "execution_count": null,
   "metadata": {},
   "outputs": [],
   "source": []
  }
 ],
 "metadata": {
  "kernelspec": {
   "display_name": "Python",
   "language": "python",
   "name": "conda-env-python-py"
  },
  "language_info": {
   "codemirror_mode": {
    "name": "ipython",
    "version": 3
   },
   "file_extension": ".py",
   "mimetype": "text/x-python",
   "name": "python",
   "nbconvert_exporter": "python",
   "pygments_lexer": "ipython3",
   "version": "3.6.10"
  }
 },
 "nbformat": 4,
 "nbformat_minor": 4
}
